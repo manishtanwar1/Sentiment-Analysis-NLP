{
 "cells": [
  {
   "cell_type": "code",
   "execution_count": 1,
   "id": "4d7010c1",
   "metadata": {},
   "outputs": [],
   "source": [
    "import numpy as np\n",
    "import pandas as pd\n",
    "import sklearn\n",
    "import spacy\n",
    "import matplotlib.pyplot as plt\n",
    "import seaborn as sns\n",
    "import nltk"
   ]
  },
  {
   "cell_type": "code",
   "execution_count": 2,
   "id": "7f59176c",
   "metadata": {},
   "outputs": [],
   "source": [
    "data = pd.read_csv(\"Amazon_Reviews.csv\")"
   ]
  },
  {
   "cell_type": "code",
   "execution_count": 3,
   "id": "21783b84",
   "metadata": {},
   "outputs": [
    {
     "name": "stdout",
     "output_type": "stream",
     "text": [
      "<class 'pandas.core.frame.DataFrame'>\n",
      "RangeIndex: 568454 entries, 0 to 568453\n",
      "Data columns (total 10 columns):\n",
      " #   Column                  Non-Null Count   Dtype \n",
      "---  ------                  --------------   ----- \n",
      " 0   Id                      568454 non-null  int64 \n",
      " 1   ProductId               568454 non-null  object\n",
      " 2   UserId                  568454 non-null  object\n",
      " 3   ProfileName             568428 non-null  object\n",
      " 4   HelpfulnessNumerator    568454 non-null  int64 \n",
      " 5   HelpfulnessDenominator  568454 non-null  int64 \n",
      " 6   Score                   568454 non-null  int64 \n",
      " 7   Time                    568454 non-null  int64 \n",
      " 8   Summary                 568427 non-null  object\n",
      " 9   Text                    568454 non-null  object\n",
      "dtypes: int64(5), object(5)\n",
      "memory usage: 43.4+ MB\n"
     ]
    }
   ],
   "source": [
    "data.info()"
   ]
  },
  {
   "cell_type": "code",
   "execution_count": 4,
   "id": "b5c8ea25-2393-47b0-b4fd-9c4f3cf8d43c",
   "metadata": {},
   "outputs": [
    {
     "data": {
      "text/html": [
       "<div>\n",
       "<style scoped>\n",
       "    .dataframe tbody tr th:only-of-type {\n",
       "        vertical-align: middle;\n",
       "    }\n",
       "\n",
       "    .dataframe tbody tr th {\n",
       "        vertical-align: top;\n",
       "    }\n",
       "\n",
       "    .dataframe thead th {\n",
       "        text-align: right;\n",
       "    }\n",
       "</style>\n",
       "<table border=\"1\" class=\"dataframe\">\n",
       "  <thead>\n",
       "    <tr style=\"text-align: right;\">\n",
       "      <th></th>\n",
       "      <th>Id</th>\n",
       "      <th>HelpfulnessNumerator</th>\n",
       "      <th>HelpfulnessDenominator</th>\n",
       "      <th>Score</th>\n",
       "      <th>Time</th>\n",
       "    </tr>\n",
       "  </thead>\n",
       "  <tbody>\n",
       "    <tr>\n",
       "      <th>count</th>\n",
       "      <td>568454.000000</td>\n",
       "      <td>568454.000000</td>\n",
       "      <td>568454.00000</td>\n",
       "      <td>568454.000000</td>\n",
       "      <td>5.684540e+05</td>\n",
       "    </tr>\n",
       "    <tr>\n",
       "      <th>mean</th>\n",
       "      <td>284227.500000</td>\n",
       "      <td>1.743817</td>\n",
       "      <td>2.22881</td>\n",
       "      <td>4.183199</td>\n",
       "      <td>1.296257e+09</td>\n",
       "    </tr>\n",
       "    <tr>\n",
       "      <th>std</th>\n",
       "      <td>164098.679298</td>\n",
       "      <td>7.636513</td>\n",
       "      <td>8.28974</td>\n",
       "      <td>1.310436</td>\n",
       "      <td>4.804331e+07</td>\n",
       "    </tr>\n",
       "    <tr>\n",
       "      <th>min</th>\n",
       "      <td>1.000000</td>\n",
       "      <td>0.000000</td>\n",
       "      <td>0.00000</td>\n",
       "      <td>1.000000</td>\n",
       "      <td>9.393408e+08</td>\n",
       "    </tr>\n",
       "    <tr>\n",
       "      <th>25%</th>\n",
       "      <td>142114.250000</td>\n",
       "      <td>0.000000</td>\n",
       "      <td>0.00000</td>\n",
       "      <td>4.000000</td>\n",
       "      <td>1.271290e+09</td>\n",
       "    </tr>\n",
       "    <tr>\n",
       "      <th>50%</th>\n",
       "      <td>284227.500000</td>\n",
       "      <td>0.000000</td>\n",
       "      <td>1.00000</td>\n",
       "      <td>5.000000</td>\n",
       "      <td>1.311120e+09</td>\n",
       "    </tr>\n",
       "    <tr>\n",
       "      <th>75%</th>\n",
       "      <td>426340.750000</td>\n",
       "      <td>2.000000</td>\n",
       "      <td>2.00000</td>\n",
       "      <td>5.000000</td>\n",
       "      <td>1.332720e+09</td>\n",
       "    </tr>\n",
       "    <tr>\n",
       "      <th>max</th>\n",
       "      <td>568454.000000</td>\n",
       "      <td>866.000000</td>\n",
       "      <td>923.00000</td>\n",
       "      <td>5.000000</td>\n",
       "      <td>1.351210e+09</td>\n",
       "    </tr>\n",
       "  </tbody>\n",
       "</table>\n",
       "</div>"
      ],
      "text/plain": [
       "                  Id  HelpfulnessNumerator  HelpfulnessDenominator  \\\n",
       "count  568454.000000         568454.000000            568454.00000   \n",
       "mean   284227.500000              1.743817                 2.22881   \n",
       "std    164098.679298              7.636513                 8.28974   \n",
       "min         1.000000              0.000000                 0.00000   \n",
       "25%    142114.250000              0.000000                 0.00000   \n",
       "50%    284227.500000              0.000000                 1.00000   \n",
       "75%    426340.750000              2.000000                 2.00000   \n",
       "max    568454.000000            866.000000               923.00000   \n",
       "\n",
       "               Score          Time  \n",
       "count  568454.000000  5.684540e+05  \n",
       "mean        4.183199  1.296257e+09  \n",
       "std         1.310436  4.804331e+07  \n",
       "min         1.000000  9.393408e+08  \n",
       "25%         4.000000  1.271290e+09  \n",
       "50%         5.000000  1.311120e+09  \n",
       "75%         5.000000  1.332720e+09  \n",
       "max         5.000000  1.351210e+09  "
      ]
     },
     "execution_count": 4,
     "metadata": {},
     "output_type": "execute_result"
    }
   ],
   "source": [
    "data.describe()"
   ]
  },
  {
   "cell_type": "code",
   "execution_count": 5,
   "id": "21b581d4-6a44-4057-b642-96ea063c8b8f",
   "metadata": {},
   "outputs": [
    {
     "data": {
      "text/plain": [
       "Id                         0\n",
       "ProductId                  0\n",
       "UserId                     0\n",
       "ProfileName               26\n",
       "HelpfulnessNumerator       0\n",
       "HelpfulnessDenominator     0\n",
       "Score                      0\n",
       "Time                       0\n",
       "Summary                   27\n",
       "Text                       0\n",
       "dtype: int64"
      ]
     },
     "execution_count": 5,
     "metadata": {},
     "output_type": "execute_result"
    }
   ],
   "source": [
    "data.isnull().sum()"
   ]
  },
  {
   "cell_type": "code",
   "execution_count": 6,
   "id": "242e0d43-7a9e-4cc3-b71c-d3aec15bc55b",
   "metadata": {},
   "outputs": [
    {
     "data": {
      "text/plain": [
       "Score\n",
       "5    363122\n",
       "4     80655\n",
       "1     52268\n",
       "3     42640\n",
       "2     29769\n",
       "Name: count, dtype: int64"
      ]
     },
     "execution_count": 6,
     "metadata": {},
     "output_type": "execute_result"
    }
   ],
   "source": [
    "data['Score'].value_counts()"
   ]
  },
  {
   "cell_type": "code",
   "execution_count": 7,
   "id": "d02d0269-677a-43e4-8452-ba19ff4c1b2b",
   "metadata": {},
   "outputs": [],
   "source": [
    "data.drop(columns=['Summary'],inplace=True)"
   ]
  },
  {
   "cell_type": "code",
   "execution_count": 8,
   "id": "ba8d5844-b2ee-400d-8853-20eeba13c098",
   "metadata": {},
   "outputs": [],
   "source": [
    "def convert_to_sentiment(score):\n",
    "    if score == 3:\n",
    "        return \"Neutral\"\n",
    "    elif score >= 4:\n",
    "        return \"Positive\"\n",
    "    else:\n",
    "        return \"Negative\"\n",
    "\n",
    "data['Sentiment']=data['Score'].apply(convert_to_sentiment)"
   ]
  },
  {
   "cell_type": "code",
   "execution_count": 9,
   "id": "4e1ebd6a-d8a6-404a-9a20-2f951e973002",
   "metadata": {},
   "outputs": [
    {
     "data": {
      "text/plain": [
       "Sentiment\n",
       "Positive    443777\n",
       "Negative     82037\n",
       "Neutral      42640\n",
       "Name: count, dtype: int64"
      ]
     },
     "execution_count": 9,
     "metadata": {},
     "output_type": "execute_result"
    }
   ],
   "source": [
    "data['Sentiment'].value_counts()"
   ]
  },
  {
   "cell_type": "code",
   "execution_count": 10,
   "id": "a3871a64-6d4a-4da2-a423-e943e1093876",
   "metadata": {},
   "outputs": [],
   "source": [
    "columns_to_drop=['Id', 'ProductId', 'UserId', 'ProfileName', 'HelpfulnessNumerator', 'HelpfulnessDenominator', 'Time','Score']"
   ]
  },
  {
   "cell_type": "code",
   "execution_count": 11,
   "id": "a62e23ae-7697-46ed-8613-fc6898dd1ab2",
   "metadata": {},
   "outputs": [],
   "source": [
    "data.drop(columns=columns_to_drop,inplace=True)"
   ]
  },
  {
   "cell_type": "code",
   "execution_count": 12,
   "id": "fe9e0b35-becc-43a7-a16f-2eacd725b8c8",
   "metadata": {},
   "outputs": [
    {
     "data": {
      "text/html": [
       "<div>\n",
       "<style scoped>\n",
       "    .dataframe tbody tr th:only-of-type {\n",
       "        vertical-align: middle;\n",
       "    }\n",
       "\n",
       "    .dataframe tbody tr th {\n",
       "        vertical-align: top;\n",
       "    }\n",
       "\n",
       "    .dataframe thead th {\n",
       "        text-align: right;\n",
       "    }\n",
       "</style>\n",
       "<table border=\"1\" class=\"dataframe\">\n",
       "  <thead>\n",
       "    <tr style=\"text-align: right;\">\n",
       "      <th></th>\n",
       "      <th>Text</th>\n",
       "      <th>Sentiment</th>\n",
       "    </tr>\n",
       "  </thead>\n",
       "  <tbody>\n",
       "    <tr>\n",
       "      <th>0</th>\n",
       "      <td>I have bought several of the Vitality canned d...</td>\n",
       "      <td>Positive</td>\n",
       "    </tr>\n",
       "    <tr>\n",
       "      <th>1</th>\n",
       "      <td>Product arrived labeled as Jumbo Salted Peanut...</td>\n",
       "      <td>Negative</td>\n",
       "    </tr>\n",
       "    <tr>\n",
       "      <th>2</th>\n",
       "      <td>This is a confection that has been around a fe...</td>\n",
       "      <td>Positive</td>\n",
       "    </tr>\n",
       "    <tr>\n",
       "      <th>3</th>\n",
       "      <td>If you are looking for the secret ingredient i...</td>\n",
       "      <td>Negative</td>\n",
       "    </tr>\n",
       "    <tr>\n",
       "      <th>4</th>\n",
       "      <td>Great taffy at a great price.  There was a wid...</td>\n",
       "      <td>Positive</td>\n",
       "    </tr>\n",
       "    <tr>\n",
       "      <th>...</th>\n",
       "      <td>...</td>\n",
       "      <td>...</td>\n",
       "    </tr>\n",
       "    <tr>\n",
       "      <th>568449</th>\n",
       "      <td>Great for sesame chicken..this is a good if no...</td>\n",
       "      <td>Positive</td>\n",
       "    </tr>\n",
       "    <tr>\n",
       "      <th>568450</th>\n",
       "      <td>I'm disappointed with the flavor. The chocolat...</td>\n",
       "      <td>Negative</td>\n",
       "    </tr>\n",
       "    <tr>\n",
       "      <th>568451</th>\n",
       "      <td>These stars are small, so you can give 10-15 o...</td>\n",
       "      <td>Positive</td>\n",
       "    </tr>\n",
       "    <tr>\n",
       "      <th>568452</th>\n",
       "      <td>These are the BEST treats for training and rew...</td>\n",
       "      <td>Positive</td>\n",
       "    </tr>\n",
       "    <tr>\n",
       "      <th>568453</th>\n",
       "      <td>I am very satisfied ,product is as advertised,...</td>\n",
       "      <td>Positive</td>\n",
       "    </tr>\n",
       "  </tbody>\n",
       "</table>\n",
       "<p>568454 rows × 2 columns</p>\n",
       "</div>"
      ],
      "text/plain": [
       "                                                     Text Sentiment\n",
       "0       I have bought several of the Vitality canned d...  Positive\n",
       "1       Product arrived labeled as Jumbo Salted Peanut...  Negative\n",
       "2       This is a confection that has been around a fe...  Positive\n",
       "3       If you are looking for the secret ingredient i...  Negative\n",
       "4       Great taffy at a great price.  There was a wid...  Positive\n",
       "...                                                   ...       ...\n",
       "568449  Great for sesame chicken..this is a good if no...  Positive\n",
       "568450  I'm disappointed with the flavor. The chocolat...  Negative\n",
       "568451  These stars are small, so you can give 10-15 o...  Positive\n",
       "568452  These are the BEST treats for training and rew...  Positive\n",
       "568453  I am very satisfied ,product is as advertised,...  Positive\n",
       "\n",
       "[568454 rows x 2 columns]"
      ]
     },
     "execution_count": 12,
     "metadata": {},
     "output_type": "execute_result"
    }
   ],
   "source": [
    "data"
   ]
  },
  {
   "cell_type": "code",
   "execution_count": 13,
   "id": "db1595f1-b3ef-4bc3-8eaa-6da156f3bb7d",
   "metadata": {},
   "outputs": [
    {
     "data": {
      "text/plain": [
       "<Axes: xlabel='count', ylabel='Sentiment'>"
      ]
     },
     "execution_count": 13,
     "metadata": {},
     "output_type": "execute_result"
    },
    {
     "data": {
      "image/png": "[encoded data removed]",
      "text/plain": [
       "<Figure size 640x480 with 1 Axes>"
      ]
     },
     "metadata": {},
     "output_type": "display_data"
    }
   ],
   "source": [
    "sns.countplot(data=data['Sentiment'])"
   ]
  },
  {
   "cell_type": "code",
   "execution_count": 14,
   "id": "8e6d5a74-0072-4de3-8f5b-2595d2f2015a",
   "metadata": {},
   "outputs": [],
   "source": [
    "data['Text']=data['Text'].str.lower()"
   ]
  },
  {
   "cell_type": "code",
   "execution_count": 15,
   "id": "b1c7113a-e962-4e61-877f-9668f2ce9ab4",
   "metadata": {},
   "outputs": [
    {
     "data": {
      "text/html": [
       "<div>\n",
       "<style scoped>\n",
       "    .dataframe tbody tr th:only-of-type {\n",
       "        vertical-align: middle;\n",
       "    }\n",
       "\n",
       "    .dataframe tbody tr th {\n",
       "        vertical-align: top;\n",
       "    }\n",
       "\n",
       "    .dataframe thead th {\n",
       "        text-align: right;\n",
       "    }\n",
       "</style>\n",
       "<table border=\"1\" class=\"dataframe\">\n",
       "  <thead>\n",
       "    <tr style=\"text-align: right;\">\n",
       "      <th></th>\n",
       "      <th>Text</th>\n",
       "      <th>Sentiment</th>\n",
       "    </tr>\n",
       "  </thead>\n",
       "  <tbody>\n",
       "    <tr>\n",
       "      <th>0</th>\n",
       "      <td>i have bought several of the vitality canned d...</td>\n",
       "      <td>Positive</td>\n",
       "    </tr>\n",
       "    <tr>\n",
       "      <th>1</th>\n",
       "      <td>product arrived labeled as jumbo salted peanut...</td>\n",
       "      <td>Negative</td>\n",
       "    </tr>\n",
       "    <tr>\n",
       "      <th>2</th>\n",
       "      <td>this is a confection that has been around a fe...</td>\n",
       "      <td>Positive</td>\n",
       "    </tr>\n",
       "    <tr>\n",
       "      <th>3</th>\n",
       "      <td>if you are looking for the secret ingredient i...</td>\n",
       "      <td>Negative</td>\n",
       "    </tr>\n",
       "    <tr>\n",
       "      <th>4</th>\n",
       "      <td>great taffy at a great price.  there was a wid...</td>\n",
       "      <td>Positive</td>\n",
       "    </tr>\n",
       "    <tr>\n",
       "      <th>...</th>\n",
       "      <td>...</td>\n",
       "      <td>...</td>\n",
       "    </tr>\n",
       "    <tr>\n",
       "      <th>568449</th>\n",
       "      <td>great for sesame chicken..this is a good if no...</td>\n",
       "      <td>Positive</td>\n",
       "    </tr>\n",
       "    <tr>\n",
       "      <th>568450</th>\n",
       "      <td>i'm disappointed with the flavor. the chocolat...</td>\n",
       "      <td>Negative</td>\n",
       "    </tr>\n",
       "    <tr>\n",
       "      <th>568451</th>\n",
       "      <td>these stars are small, so you can give 10-15 o...</td>\n",
       "      <td>Positive</td>\n",
       "    </tr>\n",
       "    <tr>\n",
       "      <th>568452</th>\n",
       "      <td>these are the best treats for training and rew...</td>\n",
       "      <td>Positive</td>\n",
       "    </tr>\n",
       "    <tr>\n",
       "      <th>568453</th>\n",
       "      <td>i am very satisfied ,product is as advertised,...</td>\n",
       "      <td>Positive</td>\n",
       "    </tr>\n",
       "  </tbody>\n",
       "</table>\n",
       "<p>568454 rows × 2 columns</p>\n",
       "</div>"
      ],
      "text/plain": [
       "                                                     Text Sentiment\n",
       "0       i have bought several of the vitality canned d...  Positive\n",
       "1       product arrived labeled as jumbo salted peanut...  Negative\n",
       "2       this is a confection that has been around a fe...  Positive\n",
       "3       if you are looking for the secret ingredient i...  Negative\n",
       "4       great taffy at a great price.  there was a wid...  Positive\n",
       "...                                                   ...       ...\n",
       "568449  great for sesame chicken..this is a good if no...  Positive\n",
       "568450  i'm disappointed with the flavor. the chocolat...  Negative\n",
       "568451  these stars are small, so you can give 10-15 o...  Positive\n",
       "568452  these are the best treats for training and rew...  Positive\n",
       "568453  i am very satisfied ,product is as advertised,...  Positive\n",
       "\n",
       "[568454 rows x 2 columns]"
      ]
     },
     "execution_count": 15,
     "metadata": {},
     "output_type": "execute_result"
    }
   ],
   "source": [
    "data"
   ]
  },
  {
   "cell_type": "code",
   "execution_count": 16,
   "id": "b970d6db-8411-4448-8500-872d2059d9a6",
   "metadata": {},
   "outputs": [],
   "source": [
    "import re\n",
    "\n",
    "data['Text'] = data['Text'].apply(lambda x: re.sub(r'[^a-zA-Z0-9\\s]', '', x))\n"
   ]
  },
  {
   "cell_type": "code",
   "execution_count": 17,
   "id": "355b7251-8f83-4103-a64c-016286f8cc36",
   "metadata": {},
   "outputs": [
    {
     "name": "stderr",
     "output_type": "stream",
     "text": [
      "[nltk_data] Downloading package punkt to\n",
      "[nltk_data]     C:\\Users\\manis\\AppData\\Roaming\\nltk_data...\n",
      "[nltk_data]   Package punkt is already up-to-date!\n"
     ]
    },
    {
     "data": {
      "text/plain": [
       "True"
      ]
     },
     "execution_count": 17,
     "metadata": {},
     "output_type": "execute_result"
    }
   ],
   "source": [
    "import nltk\n",
    "nltk.download('punkt')"
   ]
  },
  {
   "cell_type": "code",
   "execution_count": 18,
   "id": "a086fd54-fc75-4bbc-bcce-d30b1432b0f2",
   "metadata": {},
   "outputs": [],
   "source": [
    "from nltk.stem import PorterStemmer\n",
    "from nltk.corpus import stopwords\n",
    "ps=PorterStemmer()\n",
    "stop_words=stopwords.words('english')\n",
    "def clean_text(text):\n",
    "    #Remove non-alphbetic characters\n",
    "    text=re.sub('[^a-zA-Z]',' ',text)\n",
    "    #Tokenize  and remove stopwords, apply stemming\n",
    "    words=[ps.stem(word) for word in text.split() if word  not in stop_words]\n",
    "    return ' '.join(words)\n",
    "data['cleaned_text']=data['Text'].apply(clean_text)"
   ]
  },
  {
   "cell_type": "code",
   "execution_count": 19,
   "id": "779d06c6-4cba-40ad-b89b-79efb0e2f1ee",
   "metadata": {},
   "outputs": [
    {
     "data": {
      "text/plain": [
       "0         i have bought several of the vitality canned d...\n",
       "1         product arrived labeled as jumbo salted peanut...\n",
       "2         this is a confection that has been around a fe...\n",
       "3         if you are looking for the secret ingredient i...\n",
       "4         great taffy at a great price  there was a wide...\n",
       "                                ...                        \n",
       "568449    great for sesame chickenthis is a good if not ...\n",
       "568450    im disappointed with the flavor the chocolate ...\n",
       "568451    these stars are small so you can give 1015 of ...\n",
       "568452    these are the best treats for training and rew...\n",
       "568453    i am very satisfied product is as advertised i...\n",
       "Name: Text, Length: 568454, dtype: object"
      ]
     },
     "execution_count": 19,
     "metadata": {},
     "output_type": "execute_result"
    }
   ],
   "source": [
    "data['Text']"
   ]
  },
  {
   "cell_type": "code",
   "execution_count": 20,
   "id": "dae4a047-8958-45ce-aa43-4ec17113e489",
   "metadata": {},
   "outputs": [],
   "source": [
    "#Vectorization(TF-IDF with N-Grams)\n",
    "from sklearn.feature_extraction.text import TfidfVectorizer\n",
    "tfidf = TfidfVectorizer(max_features=2000, ngram_range=(1,2))\n",
    "X=tfidf.fit_transform(data['cleaned_text'])\n",
    "y=data['Sentiment']"
   ]
  },
  {
   "cell_type": "code",
   "execution_count": 21,
   "id": "4017d3f3-c865-4be2-a4cf-1fdcf294402b",
   "metadata": {},
   "outputs": [],
   "source": [
    "X = X.astype(np.float32)"
   ]
  },
  {
   "cell_type": "code",
   "execution_count": 22,
   "id": "215e7466-9835-482a-a153-68eb38adc8d6",
   "metadata": {},
   "outputs": [],
   "source": [
    "#Split the dataset in train and test\n",
    "from sklearn.model_selection import train_test_split\n",
    "X_train, X_test, y_train, y_test = train_test_split(X,y,random_state=42,test_size=0.2,stratify=y)"
   ]
  },
  {
   "cell_type": "code",
   "execution_count": 23,
   "id": "cb950fd7-6216-4094-820d-af38f6b868d1",
   "metadata": {},
   "outputs": [
    {
     "name": "stderr",
     "output_type": "stream",
     "text": [
      "C:\\Data Science\\New folder\\Lib\\site-packages\\sklearn\\linear_model\\_sag.py:348: ConvergenceWarning: The max_iter was reached which means the coef_ did not converge\n",
      "  warnings.warn(\n"
     ]
    },
    {
     "name": "stdout",
     "output_type": "stream",
     "text": [
      "Accuracy Score:  0.6975310270821788\n",
      "Classification report:                precision    recall  f1-score   support\n",
      "\n",
      "    Negative       0.50      0.70      0.59     16407\n",
      "     Neutral       0.19      0.59      0.29      8528\n",
      "    Positive       0.97      0.71      0.82     88756\n",
      "\n",
      "    accuracy                           0.70    113691\n",
      "   macro avg       0.56      0.67      0.57    113691\n",
      "weighted avg       0.84      0.70      0.74    113691\n",
      "\n",
      "Confusion matrix:  [[11565  3939   903]\n",
      " [ 2378  5045  1105]\n",
      " [ 9047 17016 62693]]\n"
     ]
    }
   ],
   "source": [
    "from sklearn.linear_model import  LogisticRegression\n",
    "from sklearn.metrics import classification_report, confusion_matrix, accuracy_score\n",
    "model=LogisticRegression(max_iter=200, class_weight='balanced', solver='saga', random_state=42)\n",
    "model.fit(X_train, y_train)\n",
    "y_pred=model.predict(X_test)\n",
    "print(\"Accuracy Score: \",accuracy_score(y_test, y_pred))\n",
    "print(\"Classification report: \",classification_report(y_test, y_pred))\n",
    "print(\"Confusion matrix: \",confusion_matrix(y_test, y_pred))"
   ]
  },
  {
   "cell_type": "code",
   "execution_count": 24,
   "id": "745c0aaf-1226-4b6d-ae35-70f9bcf15b81",
   "metadata": {},
   "outputs": [
    {
     "name": "stdout",
     "output_type": "stream",
     "text": [
      "svc_accuracy:  0.8385536234178607\n",
      "Classification Report:                precision    recall  f1-score   support\n",
      "\n",
      "    Negative       0.64      0.72      0.68     16407\n",
      "     Neutral       0.35      0.38      0.36      8528\n",
      "    Positive       0.93      0.90      0.92     88756\n",
      "\n",
      "    accuracy                           0.84    113691\n",
      "   macro avg       0.64      0.67      0.65    113691\n",
      "weighted avg       0.85      0.84      0.84    113691\n",
      "\n"
     ]
    }
   ],
   "source": [
    "#well, 69% accuracy  is a good basline with Logistic Regression\n",
    "#Let's compare this with LinearSVC, as it's a perfect chice for TF-IDF text data and imalanced classes.\n",
    "\n",
    "from sklearn.svm import LinearSVC\n",
    "from sklearn.preprocessing import LabelEncoder\n",
    "\n",
    "le=LabelEncoder()\n",
    "y_train_enc = le.fit_transform(y_train)\n",
    "y_test_enc = le.transform(y_test)\n",
    "svc_model = LinearSVC(class_weight='balanced',random_state=42,max_iter=5000)\n",
    "svc_model.fit(X_train,y_train_enc)\n",
    "y_pred_svc = svc_model.predict(X_test)\n",
    "print(\"svc_accuracy: \",accuracy_score(y_test_enc,y_pred_svc))\n",
    "print(\"Classification Report: \",classification_report(y_test_enc,y_pred_svc,target_names=le.classes_))"
   ]
  },
  {
   "cell_type": "code",
   "execution_count": 25,
   "id": "da67c939-9c03-4b70-81cf-515e7cea2e8a",
   "metadata": {},
   "outputs": [
    {
     "name": "stdout",
     "output_type": "stream",
     "text": [
      "Training accuracy:  1.0\n"
     ]
    }
   ],
   "source": [
    "#well, 83% accuracy is not bad let's see if it's not underfiitted or overfitted by comparing the test accuracy with the train accuracy\n",
    "y_train_pred=svc_model.predict(X_train)\n",
    "train_accuracy=accuracy_score(y_train_pred,y_train_pred)\n",
    "print(\"Training accuracy: \",train_accuracy)"
   ]
  },
  {
   "cell_type": "code",
   "execution_count": 26,
   "id": "85c3f2a0-2d99-4c71-a0a2-5d0fb7ddb4c9",
   "metadata": {},
   "outputs": [
    {
     "name": "stdout",
     "output_type": "stream",
     "text": [
      "Fitting 3 folds for each of 8 candidates, totalling 24 fits\n",
      "Best Parameters:  {'C': 0.01, 'class_weight': 'balanced', 'loss': 'squared_hinge', 'max_iter': 3000}\n",
      "Best CV Score:  0.8410600680887024\n"
     ]
    }
   ],
   "source": [
    "#it seems like it's overfitting, let use hyperparameter tuning.\n",
    "from sklearn.model_selection import GridSearchCV\n",
    "parameter_grid = {'C':[0.01,0.1,1,10],\n",
    "                 'loss':['squared_hinge'],\n",
    "                 'class_weight':['balanced'],\n",
    "                 'max_iter':[3000,5000]}\n",
    "grid = GridSearchCV(LinearSVC(), parameter_grid, cv=3, scoring='accuracy', verbose=2, n_jobs=-1)\n",
    "grid.fit(X_train,y_train_enc)\n",
    "\n",
    "print(\"Best Parameters: \",grid.best_params_)\n",
    "print(\"Best CV Score: \",grid.best_score_)"
   ]
  },
  {
   "cell_type": "code",
   "execution_count": 27,
   "id": "7734ef8c-31c3-449c-9ff7-4df6dd6df4d5",
   "metadata": {},
   "outputs": [
    {
     "name": "stdout",
     "output_type": "stream",
     "text": [
      "Training accuracy:  0.8431798541218173\n"
     ]
    }
   ],
   "source": [
    "train_pred_gsv = grid.best_estimator_.predict(X_train)\n",
    "train_accuracy_gsv = accuracy_score(y_train_enc, train_pred_gsv)\n",
    "print(\"Training accuracy: \", train_accuracy_gsv)"
   ]
  },
  {
   "cell_type": "markdown",
   "id": "85cbbcd8-8825-41f8-a194-01f236ee03a4",
   "metadata": {},
   "source": [
    "##Perfect now the training accuracy is 0.843 and Test accuracy is 0.841, This is what we call a well generalized model."
   ]
  },
  {
   "cell_type": "code",
   "execution_count": null,
   "id": "2338c1a0-66ff-42ec-945f-cb687586df18",
   "metadata": {},
   "outputs": [],
   "source": []
  },
  {
   "cell_type": "code",
   "execution_count": null,
   "id": "0e695e7a-6c37-4f4e-94bf-1f8bee53ee69",
   "metadata": {},
   "outputs": [],
   "source": []
  }
 ],
 "metadata": {
  "kernelspec": {
   "display_name": "Python [conda env:base] *",
   "language": "python",
   "name": "conda-base-py"
  },
  "language_info": {
   "codemirror_mode": {
    "name": "ipython",
    "version": 3
   },
   "file_extension": ".py",
   "mimetype": "text/x-python",
   "name": "python",
   "nbconvert_exporter": "python",
   "pygments_lexer": "ipython3",
   "version": "3.12.7"
  }
 },
 "nbformat": 4,
 "nbformat_minor": 5
}
